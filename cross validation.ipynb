{
 "cells": [
  {
   "cell_type": "code",
   "execution_count": 2,
   "id": "1c12ba71",
   "metadata": {},
   "outputs": [],
   "source": [
    "from sklearn.datasets import load_iris\n",
    "from sklearn.tree import DecisionTreeClassifier\n",
    "from sklearn.model_selection import train_test_split\n",
    "from sklearn.metrics import accuracy_score, precision_score, recall_score\n",
    "from sklearn.model_selection import KFold\n",
    "from sklearn.metrics import classification_report\n",
    "import numpy as np\n",
    "import pandas as pd"
   ]
  },
  {
   "cell_type": "markdown",
   "id": "f1357261",
   "metadata": {},
   "source": [
    "# 교차검증\n",
    "- train의 정확도는 높은데 test 정확도는 낮으면 안됨\n",
    "- 교차검증은 데이터의 편중을 막기 위해 별도의 여러 세트로 구성된 학습데이터와 검증데이터 세트로 학습과 평가를 수행하는 것"
   ]
  },
  {
   "cell_type": "code",
   "execution_count": 3,
   "id": "7d6a2182",
   "metadata": {},
   "outputs": [],
   "source": [
    "#데이터 불러오고 변수설정\n",
    "fold_iris = load_iris()\n",
    "features = fold_iris.data\n",
    "\n",
    "label = fold_iris.target\n",
    "fold_df_clf = DecisionTreeClassifier()"
   ]
  },
  {
   "cell_type": "markdown",
   "id": "b9cd0b54",
   "metadata": {},
   "source": [
    "#### KFold란?\n",
    "K개의 데이터 폴드를 만들어서 K번만큼 각 폴드 세트에 학습과 검증을 반복적으로 수행하는 방법"
   ]
  },
  {
   "cell_type": "code",
   "execution_count": 4,
   "id": "0eb15ea6",
   "metadata": {},
   "outputs": [],
   "source": [
    "kfold = KFold(n_splits = 5)\n",
    "cv_accuracy = [] #정확도\n",
    "cv_precision = [] #정밀도\n",
    "cv_recall = [] #재현율"
   ]
  },
  {
   "cell_type": "code",
   "execution_count": 5,
   "id": "30e9ca0e",
   "metadata": {},
   "outputs": [
    {
     "data": {
      "text/plain": [
       "<generator object _BaseKFold.split at 0x0000026FD68C8660>"
      ]
     },
     "execution_count": 5,
     "metadata": {},
     "output_type": "execute_result"
    }
   ],
   "source": [
    "kfold.split(features) #폴드별 학습용, 검증용 테스트의 row index를 array로 반환"
   ]
  },
  {
   "cell_type": "code",
   "execution_count": 9,
   "id": "52a9217d",
   "metadata": {},
   "outputs": [
    {
     "name": "stdout",
     "output_type": "stream",
     "text": [
      "\n",
      " 교차검증 정확도 : 1.000000\n",
      "\n",
      " 교차검증 정확도 : 2.000000\n",
      "\n",
      " 교차검증 정확도 : 3.000000\n",
      "\n",
      " 교차검증 정확도 : 4.000000\n",
      "\n",
      " 교차검증 정확도 : 5.000000\n",
      "\n",
      "\n",
      "\n",
      " 평균정확도 0.73333\n"
     ]
    }
   ],
   "source": [
    "n_iter = 0 #5번이니까 0부터 시작\n",
    "for train_idx, test_idx in kfold.split(features):\n",
    "    #반환된 인덴스를 이용해 학습용, 검증용 테스트 데이터 추출\n",
    "    X_train, X_test = features[train_idx], features[test_idx]\n",
    "    y_train, y_test = label[train_idx], label[test_idx]\n",
    "    \n",
    "    #학습 진행\n",
    "    fold_df_clf.fit(X_train, y_train)\n",
    "    #예측 진행\n",
    "    fold_pred = fold_df_clf.predict(X_test)\n",
    "    \n",
    "    #반복시 정확도 측정\n",
    "    n_iter += 1\n",
    "    accuracy = np.round(accuracy_score(y_test, fold_pred),5)\n",
    "    print('\\n 교차검증 정확도 : {:3f}'.format(n_iter, accuracy))\n",
    "    cv_accuracy.append(accuracy)\n",
    "    \n",
    "print('\\n')\n",
    "print('\\n 평균정확도', np.mean(accuracy))\n",
    "    \n",
    "    "
   ]
  },
  {
   "cell_type": "code",
   "execution_count": 10,
   "id": "e3fa7427",
   "metadata": {},
   "outputs": [
    {
     "data": {
      "text/plain": [
       "array([0, 0, 0, 0, 0, 0, 0, 0, 0, 0, 0, 0, 0, 0, 0, 0, 0, 0, 0, 0, 0, 0,\n",
       "       0, 0, 0, 0, 0, 0, 0, 0, 0, 0, 0, 0, 0, 0, 0, 0, 0, 0, 0, 0, 0, 0,\n",
       "       0, 0, 0, 0, 0, 0, 1, 1, 1, 1, 1, 1, 1, 1, 1, 1, 1, 1, 1, 1, 1, 1,\n",
       "       1, 1, 1, 1, 1, 1, 1, 1, 1, 1, 1, 1, 1, 1, 1, 1, 1, 1, 1, 1, 1, 1,\n",
       "       1, 1, 1, 1, 1, 1, 1, 1, 1, 1, 1, 1, 2, 2, 2, 2, 2, 2, 2, 2, 2, 2,\n",
       "       2, 2, 2, 2, 2, 2, 2, 2, 2, 2, 2, 2, 2, 2, 2, 2, 2, 2, 2, 2, 2, 2,\n",
       "       2, 2, 2, 2, 2, 2, 2, 2, 2, 2, 2, 2, 2, 2, 2, 2, 2, 2])"
      ]
     },
     "execution_count": 10,
     "metadata": {},
     "output_type": "execute_result"
    }
   ],
   "source": [
    "label"
   ]
  },
  {
   "cell_type": "markdown",
   "id": "1d26cf13",
   "metadata": {},
   "source": [
    "## KFold의 문제점\n",
    "\n",
    "-iris 데이터는 타겟이 이진(0과1)이 아니라 0,1,2 세가지로 나뉜다. \n",
    "따라서 recall, precision 은 타겟값이 이진이 아니면 계산할 때 문제가 생길 수 있다\n",
    "\n",
    "-KFold로 나눴을 때 0,1만 포함되거나 1,2만 포함되는 경우도 있어서 오류가 생길 수 있다. "
   ]
  },
  {
   "cell_type": "code",
   "execution_count": 11,
   "id": "c3f49bae",
   "metadata": {},
   "outputs": [
    {
     "name": "stdout",
     "output_type": "stream",
     "text": [
      "0    50\n",
      "1    50\n",
      "2    50\n",
      "Name: target, dtype: int64\n"
     ]
    }
   ],
   "source": [
    "kfold_iris_data = load_iris()\n",
    "kfold_iris_data_df = pd.DataFrame(data=kfold_iris_data.data, columns = kfold_iris_data.feature_names)\n",
    "kfold_iris_data_df['target'] = kfold_iris_data.target\n",
    "print(kfold_iris_data_df['target'].value_counts())"
   ]
  },
  {
   "cell_type": "code",
   "execution_count": 12,
   "id": "90d31a7f",
   "metadata": {},
   "outputs": [
    {
     "data": {
      "text/plain": [
       "<generator object _BaseKFold.split at 0x0000026FD69687B0>"
      ]
     },
     "execution_count": 12,
     "metadata": {},
     "output_type": "execute_result"
    }
   ],
   "source": [
    "kfold_iris = KFold(n_splits = 3)\n",
    "kfold_iris.split(kfold_iris_data_df)"
   ]
  },
  {
   "cell_type": "code",
   "execution_count": 13,
   "id": "dee3a761",
   "metadata": {},
   "outputs": [
    {
     "data": {
      "text/html": [
       "<div>\n",
       "<style scoped>\n",
       "    .dataframe tbody tr th:only-of-type {\n",
       "        vertical-align: middle;\n",
       "    }\n",
       "\n",
       "    .dataframe tbody tr th {\n",
       "        vertical-align: top;\n",
       "    }\n",
       "\n",
       "    .dataframe thead th {\n",
       "        text-align: right;\n",
       "    }\n",
       "</style>\n",
       "<table border=\"1\" class=\"dataframe\">\n",
       "  <thead>\n",
       "    <tr style=\"text-align: right;\">\n",
       "      <th></th>\n",
       "      <th>sepal length (cm)</th>\n",
       "      <th>sepal width (cm)</th>\n",
       "      <th>petal length (cm)</th>\n",
       "      <th>petal width (cm)</th>\n",
       "      <th>target</th>\n",
       "    </tr>\n",
       "  </thead>\n",
       "  <tbody>\n",
       "    <tr>\n",
       "      <th>0</th>\n",
       "      <td>5.1</td>\n",
       "      <td>3.5</td>\n",
       "      <td>1.4</td>\n",
       "      <td>0.2</td>\n",
       "      <td>0</td>\n",
       "    </tr>\n",
       "    <tr>\n",
       "      <th>1</th>\n",
       "      <td>4.9</td>\n",
       "      <td>3.0</td>\n",
       "      <td>1.4</td>\n",
       "      <td>0.2</td>\n",
       "      <td>0</td>\n",
       "    </tr>\n",
       "    <tr>\n",
       "      <th>2</th>\n",
       "      <td>4.7</td>\n",
       "      <td>3.2</td>\n",
       "      <td>1.3</td>\n",
       "      <td>0.2</td>\n",
       "      <td>0</td>\n",
       "    </tr>\n",
       "    <tr>\n",
       "      <th>3</th>\n",
       "      <td>4.6</td>\n",
       "      <td>3.1</td>\n",
       "      <td>1.5</td>\n",
       "      <td>0.2</td>\n",
       "      <td>0</td>\n",
       "    </tr>\n",
       "    <tr>\n",
       "      <th>4</th>\n",
       "      <td>5.0</td>\n",
       "      <td>3.6</td>\n",
       "      <td>1.4</td>\n",
       "      <td>0.2</td>\n",
       "      <td>0</td>\n",
       "    </tr>\n",
       "    <tr>\n",
       "      <th>...</th>\n",
       "      <td>...</td>\n",
       "      <td>...</td>\n",
       "      <td>...</td>\n",
       "      <td>...</td>\n",
       "      <td>...</td>\n",
       "    </tr>\n",
       "    <tr>\n",
       "      <th>145</th>\n",
       "      <td>6.7</td>\n",
       "      <td>3.0</td>\n",
       "      <td>5.2</td>\n",
       "      <td>2.3</td>\n",
       "      <td>2</td>\n",
       "    </tr>\n",
       "    <tr>\n",
       "      <th>146</th>\n",
       "      <td>6.3</td>\n",
       "      <td>2.5</td>\n",
       "      <td>5.0</td>\n",
       "      <td>1.9</td>\n",
       "      <td>2</td>\n",
       "    </tr>\n",
       "    <tr>\n",
       "      <th>147</th>\n",
       "      <td>6.5</td>\n",
       "      <td>3.0</td>\n",
       "      <td>5.2</td>\n",
       "      <td>2.0</td>\n",
       "      <td>2</td>\n",
       "    </tr>\n",
       "    <tr>\n",
       "      <th>148</th>\n",
       "      <td>6.2</td>\n",
       "      <td>3.4</td>\n",
       "      <td>5.4</td>\n",
       "      <td>2.3</td>\n",
       "      <td>2</td>\n",
       "    </tr>\n",
       "    <tr>\n",
       "      <th>149</th>\n",
       "      <td>5.9</td>\n",
       "      <td>3.0</td>\n",
       "      <td>5.1</td>\n",
       "      <td>1.8</td>\n",
       "      <td>2</td>\n",
       "    </tr>\n",
       "  </tbody>\n",
       "</table>\n",
       "<p>150 rows × 5 columns</p>\n",
       "</div>"
      ],
      "text/plain": [
       "     sepal length (cm)  sepal width (cm)  petal length (cm)  petal width (cm)  \\\n",
       "0                  5.1               3.5                1.4               0.2   \n",
       "1                  4.9               3.0                1.4               0.2   \n",
       "2                  4.7               3.2                1.3               0.2   \n",
       "3                  4.6               3.1                1.5               0.2   \n",
       "4                  5.0               3.6                1.4               0.2   \n",
       "..                 ...               ...                ...               ...   \n",
       "145                6.7               3.0                5.2               2.3   \n",
       "146                6.3               2.5                5.0               1.9   \n",
       "147                6.5               3.0                5.2               2.0   \n",
       "148                6.2               3.4                5.4               2.3   \n",
       "149                5.9               3.0                5.1               1.8   \n",
       "\n",
       "     target  \n",
       "0         0  \n",
       "1         0  \n",
       "2         0  \n",
       "3         0  \n",
       "4         0  \n",
       "..      ...  \n",
       "145       2  \n",
       "146       2  \n",
       "147       2  \n",
       "148       2  \n",
       "149       2  \n",
       "\n",
       "[150 rows x 5 columns]"
      ]
     },
     "execution_count": 13,
     "metadata": {},
     "output_type": "execute_result"
    }
   ],
   "source": [
    "kfold_iris_data_df"
   ]
  },
  {
   "cell_type": "code",
   "execution_count": 14,
   "id": "9549f957",
   "metadata": {},
   "outputs": [
    {
     "name": "stdout",
     "output_type": "stream",
     "text": [
      "교차검증 :1\n",
      "학습 레이블데이터 분포\n",
      " 1    50\n",
      "2    50\n",
      "Name: target, dtype: int64\n",
      "검증 레이블데이터 분포\n",
      " 0    50\n",
      "Name: target, dtype: int64\n",
      "교차검증 :2\n",
      "학습 레이블데이터 분포\n",
      " 0    50\n",
      "2    50\n",
      "Name: target, dtype: int64\n",
      "검증 레이블데이터 분포\n",
      " 1    50\n",
      "Name: target, dtype: int64\n",
      "교차검증 :3\n",
      "학습 레이블데이터 분포\n",
      " 0    50\n",
      "1    50\n",
      "Name: target, dtype: int64\n",
      "검증 레이블데이터 분포\n",
      " 2    50\n",
      "Name: target, dtype: int64\n"
     ]
    }
   ],
   "source": [
    "cnt_iter = 0\n",
    "for train_idx, test_idx in kfold_iris.split(kfold_iris_data_df):\n",
    "    cnt_iter += 1\n",
    "    label_train = kfold_iris_data_df['target'].iloc[train_idx]\n",
    "    label_test = kfold_iris_data_df['target'].iloc[test_idx]\n",
    "    print('교차검증 :{}'.format(cnt_iter))\n",
    "    print('학습 레이블데이터 분포\\n', label_train.value_counts())\n",
    "    print('검증 레이블데이터 분포\\n', label_test.value_counts())"
   ]
  },
  {
   "cell_type": "markdown",
   "id": "f6693338",
   "metadata": {},
   "source": [
    "# StratifiedKFold\n",
    "- 회귀 예측할때는 필요없음"
   ]
  },
  {
   "cell_type": "code",
   "execution_count": 15,
   "id": "cc563dd3",
   "metadata": {},
   "outputs": [],
   "source": [
    "from sklearn.model_selection import StratifiedKFold"
   ]
  },
  {
   "cell_type": "code",
   "execution_count": 18,
   "id": "95e94578",
   "metadata": {},
   "outputs": [],
   "source": [
    "skf_iris = StratifiedKFold(n_splits = 3)\n",
    "cnt_iter = 0"
   ]
  },
  {
   "cell_type": "code",
   "execution_count": 19,
   "id": "5532fc99",
   "metadata": {},
   "outputs": [
    {
     "name": "stdout",
     "output_type": "stream",
     "text": [
      "교차검증 :1\n",
      "학습 레이블데이터 분포\n",
      " 2    34\n",
      "0    33\n",
      "1    33\n",
      "Name: target, dtype: int64\n",
      "검증 레이블데이터 분포\n",
      " 0    17\n",
      "1    17\n",
      "2    16\n",
      "Name: target, dtype: int64\n",
      "교차검증 :2\n",
      "학습 레이블데이터 분포\n",
      " 1    34\n",
      "0    33\n",
      "2    33\n",
      "Name: target, dtype: int64\n",
      "검증 레이블데이터 분포\n",
      " 0    17\n",
      "2    17\n",
      "1    16\n",
      "Name: target, dtype: int64\n",
      "교차검증 :3\n",
      "학습 레이블데이터 분포\n",
      " 0    34\n",
      "1    33\n",
      "2    33\n",
      "Name: target, dtype: int64\n",
      "검증 레이블데이터 분포\n",
      " 1    17\n",
      "2    17\n",
      "0    16\n",
      "Name: target, dtype: int64\n"
     ]
    }
   ],
   "source": [
    "cnt_iter = 0\n",
    "for train_idx, test_idx in skf_iris.split(kfold_iris_data_df, kfold_iris_data_df['target']): #기존 데이터와 Y값도 같이 넣어야함\n",
    "    cnt_iter += 1\n",
    "    label_train = kfold_iris_data_df['target'].iloc[train_idx]\n",
    "    label_test = kfold_iris_data_df['target'].iloc[test_idx]\n",
    "    print('교차검증 :{}'.format(cnt_iter))\n",
    "    print('학습 레이블데이터 분포\\n', label_train.value_counts())\n",
    "    print('검증 레이블데이터 분포\\n', label_test.value_counts())"
   ]
  },
  {
   "cell_type": "code",
   "execution_count": 20,
   "id": "ae7559cf",
   "metadata": {},
   "outputs": [
    {
     "name": "stdout",
     "output_type": "stream",
     "text": [
      "\n",
      "1 교차검증 정확도 : 0.98, 교차검증 precision :0.981, 교차검증 recall :0.979\n",
      "\n",
      "2 교차검증 정확도 : 0.92, 교차검증 precision :0.919, 교차검증 recall :0.919\n",
      "\n",
      "3 교차검증 정확도 : 0.96, 교차검증 precision :0.961, 교차검증 recall :0.961\n",
      "\n",
      "\n",
      "\n",
      " 평균 검증 정확도 0.9533333333333333 0.9536666666666666 0.953\n"
     ]
    }
   ],
   "source": [
    "result_skfold = StratifiedKFold(n_splits=3)\n",
    "result_clf = DecisionTreeClassifier(random_state=100)\n",
    "n_iter = 0 # 5번 진행 예정이니 0 먼저 지정\n",
    "\n",
    "cv_accuracy=[]\n",
    "cv_precision=[]\n",
    "cv_recall=[]\n",
    "\n",
    "\n",
    "for train_idx, test_idx in result_skfold.split(features, label):\n",
    "    X_train, X_test = features[train_idx], features[test_idx]\n",
    "    \n",
    "    y_train, y_test = label[train_idx], label[test_idx]\n",
    "    \n",
    "    #학습을 진행\n",
    "    result_clf.fit(X_train, y_train)\n",
    "    #예측\n",
    "    pred = result_clf.predict(X_test)\n",
    "    \n",
    "    #정확도 관련해서 측정\n",
    "    n_iter +=1 \n",
    "    accuracy = np.round(accuracy_score(y_test, pred),3)\n",
    "    precision = np.round(precision_score(y_test,pred, average='macro'),3)\n",
    "    recall = np.round(recall_score(y_test, pred, average='macro'),3)\n",
    "    print('\\n{} 교차검증 정확도 : {}, 교차검증 precision :{}, 교차검증 recall :{}'.format(n_iter, accuracy, precision, recall))\n",
    "    cv_accuracy.append(accuracy)\n",
    "    cv_precision.append(precision)\n",
    "    cv_recall.append(recall)\n",
    "    \n",
    "print('\\n')\n",
    "#print('\\n 평균 정확도 ', np.mean(accuracy))\n",
    "print('\\n 평균 검증 정확도', np.mean(cv_accuracy), np.mean(cv_precision), np.mean(cv_recall))"
   ]
  },
  {
   "cell_type": "markdown",
   "id": "4edbd0e1",
   "metadata": {},
   "source": [
    "정답이 3개라면 계산 식을 바꿔야한다. 그 정답 계산하는 식을 바꿔주는 인자가 average, micro, weighted\n",
    "\n",
    "\n",
    "-micro : 전체의 평균\n",
    "-macro : 평균 중의 평균\n",
    "-weighted : 가중 평균"
   ]
  }
 ],
 "metadata": {
  "kernelspec": {
   "display_name": "Python 3 (ipykernel)",
   "language": "python",
   "name": "python3"
  },
  "language_info": {
   "codemirror_mode": {
    "name": "ipython",
    "version": 3
   },
   "file_extension": ".py",
   "mimetype": "text/x-python",
   "name": "python",
   "nbconvert_exporter": "python",
   "pygments_lexer": "ipython3",
   "version": "3.9.12"
  }
 },
 "nbformat": 4,
 "nbformat_minor": 5
}
